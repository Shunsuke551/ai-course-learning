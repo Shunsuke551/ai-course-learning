{
  "nbformat": 4,
  "nbformat_minor": 0,
  "metadata": {
    "colab": {
      "provenance": [],
      "authorship_tag": "ABX9TyPRV7xnkGOrIEJPAAK+v/lT",
      "include_colab_link": true
    },
    "kernelspec": {
      "name": "python3",
      "display_name": "Python 3"
    },
    "language_info": {
      "name": "python"
    }
  },
  "cells": [
    {
      "cell_type": "markdown",
      "metadata": {
        "id": "view-in-github",
        "colab_type": "text"
      },
      "source": [
        "<a href=\"https://colab.research.google.com/github/Tomoshibi-ShunsukeTakeda/ai-course-learning/blob/main/sum_numeric_list.ipynb\" target=\"_parent\"><img src=\"https://colab.research.google.com/assets/colab-badge.svg\" alt=\"Open In Colab\"/></a>"
      ]
    },
    {
      "cell_type": "code",
      "source": [
        "def sum_numeric_list(data):\n",
        "    total = 0\n",
        "    # ここに処理を記述\n",
        "    for i in data:\n",
        "      try:\n",
        "        total = total + i\n",
        "      except TypeError:\n",
        "        print(f\"無効な値が含まれています：{i}\")\n",
        "\n",
        "    return total\n",
        "\n",
        "test_list1 = [1, 2, 3, 4, 5]\n",
        "test_list2 = [1, \"hello\", 3, \"world\", 5]\n",
        "print(f\"リスト1の合計: {sum_numeric_list(test_list1)}\")\n",
        "print(f\"リスト2の合計: {sum_numeric_list(test_list2)}\")"
      ],
      "metadata": {
        "colab": {
          "base_uri": "https://localhost:8080/"
        },
        "id": "kq9zDTmU4NnY",
        "outputId": "0ff6ae33-fced-4370-85ea-cecb48012539"
      },
      "execution_count": 9,
      "outputs": [
        {
          "output_type": "stream",
          "name": "stdout",
          "text": [
            "リスト1の合計: 15\n",
            "無効な値が含まれています：hello\n",
            "無効な値が含まれています：world\n",
            "リスト2の合計: 9\n"
          ]
        }
      ]
    }
  ]
}