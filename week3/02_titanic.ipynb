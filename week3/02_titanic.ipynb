{
  "nbformat": 4,
  "nbformat_minor": 0,
  "metadata": {
    "colab": {
      "provenance": [],
      "authorship_tag": "ABX9TyN8vlDk2Gwe7Q/y4Gp1UGMk",
      "include_colab_link": true
    },
    "kernelspec": {
      "name": "python3",
      "display_name": "Python 3"
    },
    "language_info": {
      "name": "python"
    }
  },
  "cells": [
    {
      "cell_type": "markdown",
      "metadata": {
        "id": "view-in-github",
        "colab_type": "text"
      },
      "source": [
        "<a href=\"https://colab.research.google.com/github/Tomoshibi-ShunsukeTakeda/ai-course-learning/blob/main/02_titanic.ipynb\" target=\"_parent\"><img src=\"https://colab.research.google.com/assets/colab-badge.svg\" alt=\"Open In Colab\"/></a>"
      ]
    },
    {
      "cell_type": "code",
      "execution_count": 18,
      "metadata": {
        "colab": {
          "base_uri": "https://localhost:8080/"
        },
        "id": "AiAU_FldUWmM",
        "outputId": "fe76356a-2c21-4087-d9f0-b416828f05f1"
      },
      "outputs": [
        {
          "output_type": "stream",
          "name": "stdout",
          "text": [
            "Drive already mounted at /content/drive; to attempt to forcibly remount, call drive.mount(\"/content/drive\", force_remount=True).\n",
            "男性の生存率: 18.891%\n",
            "女性の生存率: 74.204%\n"
          ]
        }
      ],
      "source": [
        "from google.colab import drive\n",
        "drive.mount('/content/drive')\n",
        "import pandas as pd\n",
        "\n",
        "# Titanicデータセットを読み込む\n",
        "titanic_df = pd.read_csv('/content/drive/MyDrive/titanic.csv')\n",
        "# 男性の生存率を求める\n",
        "male_df = titanic_df[titanic_df['Sex']=='male']\n",
        "male_survived_df = male_df[male_df['Survived'] == 1]\n",
        "male_survival_rate = (male_survived_df.size/male_df.size)*100\n",
        "\n",
        "# 女性の生存率を求める\n",
        "female_df = titanic_df[titanic_df['Sex']=='female']\n",
        "female_survived_df = female_df[female_df['Survived']== 1]\n",
        "female_survival_rate = (female_survived_df.size/female_df.size)*100\n",
        "\n",
        "\n",
        "print(f\"男性の生存率: {male_survival_rate:.3f}%\")\n",
        "print(f\"女性の生存率: {female_survival_rate:.3f}%\")"
      ]
    }
  ]
}
