{
  "nbformat": 4,
  "nbformat_minor": 0,
  "metadata": {
    "colab": {
      "provenance": [],
      "authorship_tag": "ABX9TyOAGEkbA7U/366fnbuhBL3X",
      "include_colab_link": true
    },
    "kernelspec": {
      "name": "python3",
      "display_name": "Python 3"
    },
    "language_info": {
      "name": "python"
    }
  },
  "cells": [
    {
      "cell_type": "markdown",
      "metadata": {
        "id": "view-in-github",
        "colab_type": "text"
      },
      "source": [
        "<a href=\"https://colab.research.google.com/github/Tomoshibi-ShunsukeTakeda/ai-course-learning/blob/main/01_standardization.ipynb\" target=\"_parent\"><img src=\"https://colab.research.google.com/assets/colab-badge.svg\" alt=\"Open In Colab\"/></a>"
      ]
    },
    {
      "cell_type": "code",
      "execution_count": 21,
      "metadata": {
        "colab": {
          "base_uri": "https://localhost:8080/"
        },
        "id": "S6HYDgJ6dsI5",
        "outputId": "53ab6cc3-b965-4b22-f19e-9352d4b3220f"
      },
      "outputs": [
        {
          "output_type": "stream",
          "name": "stdout",
          "text": [
            "元の2次元データ:\n",
            " [[ 1 10]\n",
            " [ 2 20]\n",
            " [ 3 30]]\n",
            "標準化された2次元データ（列ごと）:\n",
            " [[-1 -1]\n",
            " [ 0  0]\n",
            " [ 1  1]]\n"
          ]
        }
      ],
      "source": [
        "import numpy as np\n",
        "\n",
        "data_2d = np.array([[1, 10],\n",
        "                    [2, 20],\n",
        "                    [3, 30]])\n",
        "\n",
        "### ここに各列ごとに標準化する処理を記述してください ###\n",
        "standardized_data_2d = np.array(data_2d)\n",
        "for i in range(data_2d.shape[0]-1):\n",
        "  standardized_data_2d[:,i-1] = (data_2d[:,i-1] - np.mean(data_2d[:,i-1]))/np.std(data_2d[:,i-1])\n",
        "\n",
        "print(\"元の2次元データ:\\n\", data_2d)\n",
        "print(\"標準化された2次元データ（列ごと）:\\n\", standardized_data_2d)"
      ]
    }
  ]
}
