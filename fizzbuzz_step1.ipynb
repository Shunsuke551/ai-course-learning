{
  "nbformat": 4,
  "nbformat_minor": 0,
  "metadata": {
    "colab": {
      "provenance": [],
      "authorship_tag": "ABX9TyOO7heusoOS6J/7BMDd4UeK",
      "include_colab_link": true
    },
    "kernelspec": {
      "name": "python3",
      "display_name": "Python 3"
    },
    "language_info": {
      "name": "python"
    }
  },
  "cells": [
    {
      "cell_type": "markdown",
      "metadata": {
        "id": "view-in-github",
        "colab_type": "text"
      },
      "source": [
        "<a href=\"https://colab.research.google.com/github/Shunsuke551/ai-course-learning/blob/main/fizzbuzz_step1.ipynb\" target=\"_parent\"><img src=\"https://colab.research.google.com/assets/colab-badge.svg\" alt=\"Open In Colab\"/></a>"
      ]
    },
    {
      "cell_type": "code",
      "execution_count": 7,
      "metadata": {
        "colab": {
          "base_uri": "https://localhost:8080/"
        },
        "id": "uT4mhoslYCKP",
        "outputId": "cfd0f6c7-10c1-45f8-c379-3bc8e3c828d9"
      },
      "outputs": [
        {
          "output_type": "stream",
          "name": "stdout",
          "text": [
            "[1, 2, 'multiple of 3', 4, 5, 'multiple of 3', 7, 8, 'multiple of 3', 10, 11, 'multiple of 3', 13, 14, 'multiple of 3', 16, 17, 'multiple of 3', 19, 20]\n"
          ]
        }
      ],
      "source": [
        "result_list=[]\n",
        "for i in range(1,21):\n",
        " if i%3!=0:\n",
        "  result_list.append(i)\n",
        "  i=i+1\n",
        " else:\n",
        "  result_list.append(\"multiple of 3\")\n",
        "  i=i+1\n",
        "print(result_list)"
      ]
    }
  ]
}